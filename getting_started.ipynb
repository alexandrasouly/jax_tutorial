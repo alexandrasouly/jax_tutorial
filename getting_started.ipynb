{
    "cells": [
        {
            "cell_type": "markdown",
            "metadata": {
                "id": "6_117sy0CGEU"
            },
            "source": [
                "# JAX As Accelerated NumPy\n",
                "\n",
                "[![Open in Colab](https://colab.research.google.com/assets/colab-badge.svg)](https://colab.research.google.com/github/google/jax/blob/main/docs/jax-101/01-jax-basics.ipynb)\n",
                "\n",
                "*Authors: Rosalia Schneider & Vladimir Mikulik*\n",
                "\n",
                "In this first section you will learn the very fundamentals of JAX."
            ]
        },
        {
            "cell_type": "markdown",
            "metadata": {
                "id": "CXjHL4L6ku3-"
            },
            "source": [
                "## Getting started with JAX numpy\n",
                "\n",
                "Fundamentally, JAX is a library that enables transformations of array-manipulating programs written with a NumPy-like API. \n",
                "\n",
                "Over the course of this series of guides, we will unpack exactly what that means. For now, you can think of JAX as *differentiable NumPy that runs on accelerators*.\n",
                "\n",
                "The code below shows how to import JAX and create a vector."
            ]
        },
        {
            "cell_type": "code",
            "execution_count": 6,
            "metadata": {
                "id": "ZqUzvqF1B1TO"
            },
            "outputs": [
                {
                    "name": "stdout",
                    "output_type": "stream",
                    "text": [
                        "[0 1 2 3 4 5 6 7 8 9]\n"
                    ]
                }
            ],
            "source": [
                "import jax\n",
                "import jax.numpy as jnp\n",
                "\n",
                "x = jnp.arange(10)\n",
                "print(x)"
            ]
        },
        {
            "cell_type": "markdown",
            "metadata": {
                "id": "rPBmlAxXlBAy"
            },
            "source": [
                "So far, everything is just like NumPy. A big appeal of JAX is that you don't need to learn a new API. Many common NumPy programs would run just as well in JAX if you substitute `np` for `jnp`. However, there are some important differences which we touch on at the end of this section.\n",
                "\n",
                "You can notice the first difference if you check the type of `x`. It is a variable of type `DeviceArray`, which is the way JAX represents arrays."
            ]
        },
        {
            "cell_type": "code",
            "execution_count": 7,
            "metadata": {
                "id": "3fLtgPUAn7mi"
            },
            "outputs": [
                {
                    "data": {
                        "text/plain": [
                            "Array([0, 1, 2, 3, 4, 5, 6, 7, 8, 9], dtype=int32)"
                        ]
                    },
                    "execution_count": 7,
                    "metadata": {},
                    "output_type": "execute_result"
                }
            ],
            "source": [
                "x"
            ]
        },
        {
            "cell_type": "markdown",
            "metadata": {
                "id": "Yx8VofzzoHFH"
            },
            "source": [
                "One useful feature of JAX is that the same code can be run on different backends -- CPU, GPU and TPU.\n",
                "\n",
                "We will now perform a dot product to demonstrate that it can be done in different devices without changing the code. We use `%timeit` to check the performance. \n",
                "\n",
                "(Technical detail: when a JAX function is called (including `jnp.array`\n",
                "creation), the corresponding operation is dispatched to an accelerator to be\n",
                "computed asynchronously when possible. The returned array is therefore not\n",
                "necessarily 'filled in' as soon as the function returns. Thus, if we don't\n",
                "require the result immediately, the computation won't block Python execution.\n",
                "Therefore, unless we `block_until_ready` or convert the array to a regular\n",
                "Python type, we will only time the dispatch, not the actual computation. See\n",
                "[Asynchronous dispatch](https://jax.readthedocs.io/en/latest/async_dispatch.html#asynchronous-dispatch)\n",
                "in the JAX docs.)"
            ]
        },
        {
            "cell_type": "code",
            "execution_count": 9,
            "metadata": {
                "id": "mRvjVxoqo-Bi"
            },
            "outputs": [
                {
                    "name": "stdout",
                    "output_type": "stream",
                    "text": [
                        "3.96 ms ± 18.3 µs per loop (mean ± std. dev. of 7 runs, 100 loops each)\n"
                    ]
                }
            ],
            "source": [
                "long_vector = jnp.arange(int(1e7))\n",
                "\n",
                "%timeit jnp.dot(long_vector, long_vector).block_until_ready()"
            ]
        },
        {
            "cell_type": "markdown",
            "metadata": {
                "id": "DKBB0zs-p-RC"
            },
            "source": [
                "**Tip**: Try running the code above twice, once without an accelerator, and once with a GPU runtime (while in Colab, click *Runtime* â†’ *Change Runtime Type* and choose `GPU`). Notice how much faster it runs on a GPU."
            ]
        },
        {
            "cell_type": "markdown",
            "metadata": {
                "id": "PkCpI-v0uQQO"
            },
            "source": [
                "## JAX first transformation: `grad`\n",
                "\n",
                "A fundamental feature of JAX is that it allows you to transform functions.\n",
                "\n",
                "One of the most commonly used transformations is `jax.grad`, which takes a numerical function written in Python and returns you a new Python function that computes the gradient of the original function. \n",
                "\n",
                "To use it, let's first define a function that takes an array and returns the sum of squares."
            ]
        },
        {
            "cell_type": "code",
            "execution_count": 10,
            "metadata": {
                "id": "LuaGUVRUvbzQ"
            },
            "outputs": [],
            "source": [
                "def sum_of_squares(x):\n",
                "  return jnp.sum(x**2)"
            ]
        },
        {
            "cell_type": "markdown",
            "metadata": {
                "id": "QAqloI1Wvtp2"
            },
            "source": [
                "Applying `jax.grad` to `sum_of_squares` will return a different function, namely the gradient of `sum_of_squares` with respect to its first parameter `x`. \n",
                "\n",
                "Then, you can use that function on an array to return the derivatives with respect to each element of the array."
            ]
        },
        {
            "cell_type": "code",
            "execution_count": 11,
            "metadata": {
                "id": "dKeorwJfvpeI"
            },
            "outputs": [
                {
                    "name": "stdout",
                    "output_type": "stream",
                    "text": [
                        "30.0\n",
                        "[2. 4. 6. 8.]\n"
                    ]
                }
            ],
            "source": [
                "sum_of_squares_dx = jax.grad(sum_of_squares)\n",
                "\n",
                "x = jnp.asarray([1.0, 2.0, 3.0, 4.0])\n",
                "\n",
                "print(sum_of_squares(x))\n",
                "\n",
                "print(sum_of_squares_dx(x))"
            ]
        },
        {
            "cell_type": "markdown",
            "metadata": {
                "id": "VfBt5CYbyKUX"
            },
            "source": [
                "You can think of `jax.grad` by analogy to the $\\nabla$ operator from vector calculus. Given a function $f(x)$, $\\nabla f$ represents the function that computes $f$'s gradient, i.e.\n",
                "\n",
                "$$\n",
                "(\\nabla f)(x)_i = \\frac{\\partial f}{\\partial x_i}(x).\n",
                "$$\n",
                "\n",
                "Analogously, `jax.grad(f)` is the function that computes the gradient, so `jax.grad(f)(x)` is the gradient of `f` at `x`.\n",
                "\n",
                "(Like $\\nabla$, `jax.grad` will only work on functions with a scalar output -- it will raise an error otherwise.)\n",
                "\n",
                "This makes the JAX API quite different from other autodiff libraries like Tensorflow and PyTorch, where to compute the gradient we use the loss tensor itself (e.g. by calling `loss.backward()`). The JAX API works directly with functions, staying closer to the underlying math. Once you become accustomed to this way of doing things, it feels natural: your loss function in code really is a function of parameters and data, and you find its gradient just like you would in the math.\n",
                "\n",
                "This way of doing things makes it straightforward to control things like which variables to differentiate with respect to. By default, `jax.grad` will find the gradient with respect to the first argument. In the example below, the result of `sum_squared_error_dx` will be the gradient of `sum_squared_error` with respect to `x`."
            ]
        },
        {
            "cell_type": "code",
            "execution_count": 14,
            "metadata": {
                "id": "f3NfaVu4yrQE"
            },
            "outputs": [
                {
                    "name": "stdout",
                    "output_type": "stream",
                    "text": [
                        "[-0.20000005 -0.19999981 -0.19999981 -0.19999981]\n"
                    ]
                }
            ],
            "source": [
                "def sum_squared_error(x, y):\n",
                "  return jnp.sum((x-y)**2)\n",
                "\n",
                "sum_squared_error_dx = jax.grad(sum_squared_error)\n",
                "\n",
                "y = jnp.asarray([1.1, 2.1, 3.1, 4.1])\n",
                "\n",
                "print(sum_squared_error_dx(x, y))"
            ]
        },
        {
            "cell_type": "markdown",
            "metadata": {
                "id": "1tOztA5zpLWN"
            },
            "source": [
                "To find the gradient with respect to a different argument (or several), you can set `argnums`:"
            ]
        },
        {
            "cell_type": "code",
            "execution_count": 15,
            "metadata": {
                "id": "FQSczVQkqIPY"
            },
            "outputs": [
                {
                    "data": {
                        "text/plain": [
                            "(Array([-0.20000005, -0.19999981, -0.19999981, -0.19999981], dtype=float32),\n",
                            " Array([0.20000005, 0.19999981, 0.19999981, 0.19999981], dtype=float32))"
                        ]
                    },
                    "execution_count": 15,
                    "metadata": {},
                    "output_type": "execute_result"
                }
            ],
            "source": [
                "jax.grad(sum_squared_error, argnums=(0, 1))(x, y)  # Find gradient wrt both x & y"
            ]
        },
        {
            "cell_type": "markdown",
            "metadata": {
                "id": "yQAMTnZSqo-t"
            },
            "source": [
                "Does this mean that when doing machine learning, we need to write functions with gigantic argument lists, with an argument for each model parameter array? No. JAX comes equipped with machinery for bundling arrays together in data structures called 'pytrees', on which more in a [later guide](https://colab.research.google.com/github/google/jax/blob/main/docs/jax-101/05.1-pytrees.ipynb). So, most often, use of `jax.grad` looks like this:\n",
                "\n",
                "```\n",
                "def loss_fn(params, data):\n",
                "  ...\n",
                "\n",
                "grads = jax.grad(loss_fn)(params, data_batch)\n",
                "```"
            ]
        },
        {
            "cell_type": "markdown",
            "metadata": {
                "id": "oBowiovisT97"
            },
            "source": [
                "where `params` is, for example, a nested dict of arrays, and the returned `grads` is another nested dict of arrays with the same structure."
            ]
        },
        {
            "cell_type": "markdown",
            "metadata": {
                "id": "LNjf9jUEsZZ8"
            },
            "source": [
                "## Value and Grad\n",
                "\n",
                "Often, you need to find both the value and the gradient of a function, e.g. if you want to log the training loss. JAX has a handy sister transformation for efficiently doing that:"
            ]
        },
        {
            "cell_type": "code",
            "execution_count": 16,
            "metadata": {
                "id": "dWg4_-h3sYwl"
            },
            "outputs": [
                {
                    "data": {
                        "text/plain": [
                            "(Array(0.03999995, dtype=float32),\n",
                            " Array([-0.20000005, -0.19999981, -0.19999981, -0.19999981], dtype=float32))"
                        ]
                    },
                    "execution_count": 16,
                    "metadata": {},
                    "output_type": "execute_result"
                }
            ],
            "source": [
                "jax.value_and_grad(sum_squared_error)(x, y)"
            ]
        },
        {
            "cell_type": "markdown",
            "metadata": {
                "id": "QVT2EWHJsvvv"
            },
            "source": [
                "which returns a tuple of, you guessed it, (value, grad). To be precise, for any `f`,\n",
                "\n",
                "```\n",
                "jax.value_and_grad(f)(*xs) == (f(*xs), jax.grad(f)(*xs)) \n",
                "```"
            ]
        },
        {
            "cell_type": "markdown",
            "metadata": {
                "id": "QmHTVpAks3OX"
            },
            "source": [
                "## Auxiliary data\n",
                "\n",
                "In addition to wanting to log the value, we often want to report some intermediate results obtained in computing the loss function. But if we try doing that with regular `jax.grad`, we run into trouble:"
            ]
        },
        {
            "cell_type": "code",
            "execution_count": 17,
            "metadata": {
                "id": "ffGCEzT4st41",
                "tags": [
                    "raises-exception"
                ]
            },
            "outputs": [
                {
                    "ename": "TypeError",
                    "evalue": "Gradient only defined for scalar-output functions. Output was (Array(0.03999995, dtype=float32), Array([-0.10000002, -0.0999999 , -0.0999999 , -0.0999999 ], dtype=float32)).",
                    "output_type": "error",
                    "traceback": [
                        "\u001b[0;31m---------------------------------------------------------------------------\u001b[0m",
                        "\u001b[0;31mTypeError\u001b[0m                                 Traceback (most recent call last)",
                        "    \u001b[0;31m[... skipping hidden 1 frame]\u001b[0m\n",
                        "File \u001b[0;32m/Library/Frameworks/Python.framework/Versions/3.10/lib/python3.10/site-packages/jax/core.py:1253\u001b[0m, in \u001b[0;36mget_aval\u001b[0;34m(x)\u001b[0m\n\u001b[1;32m   1252\u001b[0m \u001b[39melse\u001b[39;00m:\n\u001b[0;32m-> 1253\u001b[0m   \u001b[39mreturn\u001b[39;00m concrete_aval(x)\n",
                        "File \u001b[0;32m/Library/Frameworks/Python.framework/Versions/3.10/lib/python3.10/site-packages/jax/core.py:1245\u001b[0m, in \u001b[0;36mconcrete_aval\u001b[0;34m(x)\u001b[0m\n\u001b[1;32m   1244\u001b[0m   \u001b[39mreturn\u001b[39;00m concrete_aval(x\u001b[39m.\u001b[39m__jax_array__())\n\u001b[0;32m-> 1245\u001b[0m \u001b[39mraise\u001b[39;00m \u001b[39mTypeError\u001b[39;00m(\u001b[39mf\u001b[39m\u001b[39m\"\u001b[39m\u001b[39mValue \u001b[39m\u001b[39m{\u001b[39;00m\u001b[39mrepr\u001b[39m(x)\u001b[39m}\u001b[39;00m\u001b[39m with type \u001b[39m\u001b[39m{\u001b[39;00m\u001b[39mtype\u001b[39m(x)\u001b[39m}\u001b[39;00m\u001b[39m is not a valid JAX \u001b[39m\u001b[39m\"\u001b[39m\n\u001b[1;32m   1246\u001b[0m                  \u001b[39m\"\u001b[39m\u001b[39mtype\u001b[39m\u001b[39m\"\u001b[39m)\n",
                        "\u001b[0;31mTypeError\u001b[0m: Value (Array(0.03999995, dtype=float32), Array([-0.10000002, -0.0999999 , -0.0999999 , -0.0999999 ], dtype=float32)) with type <class 'tuple'> is not a valid JAX type",
                        "\nThe above exception was the direct cause of the following exception:\n",
                        "\u001b[0;31mTypeError\u001b[0m                                 Traceback (most recent call last)",
                        "\u001b[1;32m/Users/alexandrasouly/code/jax_tutorial/getting_started.ipynb Cell 23'\u001b[0m in \u001b[0;36m<cell line: 4>\u001b[0;34m()\u001b[0m\n\u001b[1;32m      <a href='vscode-notebook-cell:/Users/alexandrasouly/code/jax_tutorial/getting_started.ipynb#ch0000022?line=0'>1</a>\u001b[0m \u001b[39mdef\u001b[39;00m \u001b[39msquared_error_with_aux\u001b[39m(x, y):\n\u001b[1;32m      <a href='vscode-notebook-cell:/Users/alexandrasouly/code/jax_tutorial/getting_started.ipynb#ch0000022?line=1'>2</a>\u001b[0m   \u001b[39mreturn\u001b[39;00m sum_squared_error(x, y), x\u001b[39m-\u001b[39my\n\u001b[0;32m----> <a href='vscode-notebook-cell:/Users/alexandrasouly/code/jax_tutorial/getting_started.ipynb#ch0000022?line=3'>4</a>\u001b[0m jax\u001b[39m.\u001b[39;49mgrad(squared_error_with_aux)(x, y)\n",
                        "    \u001b[0;31m[... skipping hidden 4 frame]\u001b[0m\n",
                        "File \u001b[0;32m/Library/Frameworks/Python.framework/Versions/3.10/lib/python3.10/site-packages/jax/_src/api.py:1185\u001b[0m, in \u001b[0;36m_check_scalar\u001b[0;34m(x)\u001b[0m\n\u001b[1;32m   1183\u001b[0m   aval \u001b[39m=\u001b[39m core\u001b[39m.\u001b[39mget_aval(x)\n\u001b[1;32m   1184\u001b[0m \u001b[39mexcept\u001b[39;00m \u001b[39mTypeError\u001b[39;00m \u001b[39mas\u001b[39;00m e:\n\u001b[0;32m-> 1185\u001b[0m   \u001b[39mraise\u001b[39;00m \u001b[39mTypeError\u001b[39;00m(msg(\u001b[39mf\u001b[39m\u001b[39m\"\u001b[39m\u001b[39mwas \u001b[39m\u001b[39m{\u001b[39;00mx\u001b[39m}\u001b[39;00m\u001b[39m\"\u001b[39m)) \u001b[39mfrom\u001b[39;00m \u001b[39me\u001b[39;00m\n\u001b[1;32m   1186\u001b[0m \u001b[39melse\u001b[39;00m:\n\u001b[1;32m   1187\u001b[0m   \u001b[39mif\u001b[39;00m \u001b[39misinstance\u001b[39m(aval, ShapedArray):\n",
                        "\u001b[0;31mTypeError\u001b[0m: Gradient only defined for scalar-output functions. Output was (Array(0.03999995, dtype=float32), Array([-0.10000002, -0.0999999 , -0.0999999 , -0.0999999 ], dtype=float32))."
                    ]
                }
            ],
            "source": [
                "def squared_error_with_aux(x, y):\n",
                "  return sum_squared_error(x, y), x-y\n",
                "\n",
                "jax.grad(squared_error_with_aux)(x, y)"
            ]
        },
        {
            "cell_type": "markdown",
            "metadata": {
                "id": "IUubno3nth4i"
            },
            "source": [
                "This is because `jax.grad` is only defined on scalar functions, and our new function returns a tuple. But we need to return a tuple to return our intermediate results! This is where `has_aux` comes in:"
            ]
        },
        {
            "cell_type": "code",
            "execution_count": 18,
            "metadata": {
                "id": "uzUFihyatgiF"
            },
            "outputs": [
                {
                    "data": {
                        "text/plain": [
                            "(Array([-0.20000005, -0.19999981, -0.19999981, -0.19999981], dtype=float32),\n",
                            " Array([-0.10000002, -0.0999999 , -0.0999999 , -0.0999999 ], dtype=float32))"
                        ]
                    },
                    "execution_count": 18,
                    "metadata": {},
                    "output_type": "execute_result"
                }
            ],
            "source": [
                "jax.grad(squared_error_with_aux, has_aux=True)(x, y)"
            ]
        },
        {
            "cell_type": "markdown",
            "metadata": {
                "id": "g5s3UiFauwDk"
            },
            "source": [
                "`has_aux` signifies that the function returns a pair, `(out, aux)`. It makes `jax.grad` ignore `aux`, passing it through to the user, while differentiating the function as if only `out` was returned."
            ]
        },
        {
            "cell_type": "markdown",
            "metadata": {
                "id": "fk4FUXe7vsW4"
            },
            "source": [
                "## Differences from NumPy\n",
                "\n",
                "The `jax.numpy` API closely follows that of NumPy. However, there are some important differences. We cover many of these in future guides, but it's worth pointing some out now.\n",
                "\n",
                "The most important difference, and in some sense the root of all the rest, is that JAX is designed to be _functional_, as in _functional programming_. The reason behind this is that the kinds of program transformations that JAX enables are much more feasible in functional-style programs.\n",
                "\n",
                "An introduction to functional programming (FP) is out of scope of this guide. If you already are familiar with FP, you will find your FP intuition helpful while learning JAX. If not, don't worry! The important feature of functional programming to grok when working with JAX is very simple: don't write code with side-effects.\n",
                "\n",
                "A side-effect is any effect of a function that doesn't appear in its output. One example is modifying an array in place:"
            ]
        },
        {
            "cell_type": "code",
            "execution_count": 19,
            "metadata": {
                "id": "o_YBuLQC1wPJ"
            },
            "outputs": [
                {
                    "data": {
                        "text/plain": [
                            "array([123,   2,   3])"
                        ]
                    },
                    "execution_count": 19,
                    "metadata": {},
                    "output_type": "execute_result"
                }
            ],
            "source": [
                "import numpy as np\n",
                "\n",
                "x = np.array([1, 2, 3])\n",
                "\n",
                "def in_place_modify(x):\n",
                "  x[0] = 123\n",
                "  return None\n",
                "\n",
                "in_place_modify(x)\n",
                "x"
            ]
        },
        {
            "cell_type": "markdown",
            "metadata": {
                "id": "JTtUihVZ13F6"
            },
            "source": [
                "The side-effectful function modifies its argument, but returns a completely unrelated value. The modification is a side-effect. \n",
                "\n",
                "The code below will run in NumPy. However, JAX arrays won't allow themselves to be modified in-place:"
            ]
        },
        {
            "cell_type": "code",
            "execution_count": 20,
            "metadata": {
                "id": "u6grTYIVcZ3f",
                "tags": [
                    "raises-exception"
                ]
            },
            "outputs": [
                {
                    "ename": "TypeError",
                    "evalue": "'<class 'jaxlib.xla_extension.Array'>' object does not support item assignment. JAX arrays are immutable. Instead of ``x[idx] = y``, use ``x = x.at[idx].set(y)`` or another .at[] method: https://jax.readthedocs.io/en/latest/_autosummary/jax.numpy.ndarray.at.html",
                    "output_type": "error",
                    "traceback": [
                        "\u001b[0;31m---------------------------------------------------------------------------\u001b[0m",
                        "\u001b[0;31mTypeError\u001b[0m                                 Traceback (most recent call last)",
                        "\u001b[1;32m/Users/alexandrasouly/code/jax_tutorial/getting_started.ipynb Cell 30'\u001b[0m in \u001b[0;36m<cell line: 1>\u001b[0;34m()\u001b[0m\n\u001b[0;32m----> <a href='vscode-notebook-cell:/Users/alexandrasouly/code/jax_tutorial/getting_started.ipynb#ch0000029?line=0'>1</a>\u001b[0m in_place_modify(jnp\u001b[39m.\u001b[39;49marray(x))\n",
                        "\u001b[1;32m/Users/alexandrasouly/code/jax_tutorial/getting_started.ipynb Cell 28'\u001b[0m in \u001b[0;36min_place_modify\u001b[0;34m(x)\u001b[0m\n\u001b[1;32m      <a href='vscode-notebook-cell:/Users/alexandrasouly/code/jax_tutorial/getting_started.ipynb#ch0000027?line=4'>5</a>\u001b[0m \u001b[39mdef\u001b[39;00m \u001b[39min_place_modify\u001b[39m(x):\n\u001b[0;32m----> <a href='vscode-notebook-cell:/Users/alexandrasouly/code/jax_tutorial/getting_started.ipynb#ch0000027?line=5'>6</a>\u001b[0m   x[\u001b[39m0\u001b[39m] \u001b[39m=\u001b[39m \u001b[39m123\u001b[39m\n\u001b[1;32m      <a href='vscode-notebook-cell:/Users/alexandrasouly/code/jax_tutorial/getting_started.ipynb#ch0000027?line=6'>7</a>\u001b[0m   \u001b[39mreturn\u001b[39;00m \u001b[39mNone\u001b[39;00m\n",
                        "File \u001b[0;32m/Library/Frameworks/Python.framework/Versions/3.10/lib/python3.10/site-packages/jax/_src/numpy/lax_numpy.py:4960\u001b[0m, in \u001b[0;36m_unimplemented_setitem\u001b[0;34m(self, i, x)\u001b[0m\n\u001b[1;32m   4955\u001b[0m \u001b[39mdef\u001b[39;00m \u001b[39m_unimplemented_setitem\u001b[39m(\u001b[39mself\u001b[39m, i, x):\n\u001b[1;32m   4956\u001b[0m   msg \u001b[39m=\u001b[39m (\u001b[39m\"\u001b[39m\u001b[39m'\u001b[39m\u001b[39m{}\u001b[39;00m\u001b[39m'\u001b[39m\u001b[39m object does not support item assignment. JAX arrays are \u001b[39m\u001b[39m\"\u001b[39m\n\u001b[1;32m   4957\u001b[0m          \u001b[39m\"\u001b[39m\u001b[39mimmutable. Instead of ``x[idx] = y``, use ``x = x.at[idx].set(y)`` \u001b[39m\u001b[39m\"\u001b[39m\n\u001b[1;32m   4958\u001b[0m          \u001b[39m\"\u001b[39m\u001b[39mor another .at[] method: \u001b[39m\u001b[39m\"\u001b[39m\n\u001b[1;32m   4959\u001b[0m          \u001b[39m\"\u001b[39m\u001b[39mhttps://jax.readthedocs.io/en/latest/_autosummary/jax.numpy.ndarray.at.html\u001b[39m\u001b[39m\"\u001b[39m)\n\u001b[0;32m-> 4960\u001b[0m   \u001b[39mraise\u001b[39;00m \u001b[39mTypeError\u001b[39;00m(msg\u001b[39m.\u001b[39mformat(\u001b[39mtype\u001b[39m(\u001b[39mself\u001b[39m)))\n",
                        "\u001b[0;31mTypeError\u001b[0m: '<class 'jaxlib.xla_extension.Array'>' object does not support item assignment. JAX arrays are immutable. Instead of ``x[idx] = y``, use ``x = x.at[idx].set(y)`` or another .at[] method: https://jax.readthedocs.io/en/latest/_autosummary/jax.numpy.ndarray.at.html"
                    ]
                }
            ],
            "source": [
                "in_place_modify(jnp.array(x))  # Raises error when we cast input to jnp.ndarray"
            ]
        },
        {
            "cell_type": "markdown",
            "metadata": {
                "id": "RGqVfYSpc49s"
            },
            "source": [
                "Helpfully, the error points us to JAX's side-effect-free way of doing the same thing via the [`jax.numpy.ndarray.at`](https://jax.readthedocs.io/en/latest/_autosummary/jax.numpy.ndarray.at.html) index update operators (be careful [`jax.ops.index_*`](https://jax.readthedocs.io/en/latest/jax.ops.html#indexed-update-functions-deprecated) functions are deprecated). They are analogous to in-place modification by index, but create a new array with the corresponding modifications made:"
            ]
        },
        {
            "cell_type": "code",
            "execution_count": 23,
            "metadata": {
                "id": "Rmklk6BB2xF0"
            },
            "outputs": [
                {
                    "data": {
                        "text/plain": [
                            "Array([123,   2,   3], dtype=int32)"
                        ]
                    },
                    "execution_count": 23,
                    "metadata": {},
                    "output_type": "execute_result"
                }
            ],
            "source": [
                "def jax_in_place_modify(x):\n",
                "  return x.at[0].set(123)\n",
                "\n",
                "y = jnp.array([1, 2, 3])\n",
                "jax_in_place_modify(y)"
            ]
        },
        {
            "cell_type": "markdown",
            "metadata": {
                "id": "91tn_25vdrNf"
            },
            "source": [
                "Note that the old array was untouched, so there is no side-effect:"
            ]
        },
        {
            "cell_type": "code",
            "execution_count": 24,
            "metadata": {
                "id": "KQGXig4Hde6T"
            },
            "outputs": [
                {
                    "data": {
                        "text/plain": [
                            "Array([1, 2, 3], dtype=int32)"
                        ]
                    },
                    "execution_count": 24,
                    "metadata": {},
                    "output_type": "execute_result"
                }
            ],
            "source": [
                "y"
            ]
        },
        {
            "cell_type": "markdown",
            "metadata": {
                "id": "d5TibzPO25qa"
            },
            "source": [
                "Side-effect-free code is sometimes called *functionally pure*, or just *pure*.\n",
                "\n",
                "Isn't the pure version less efficient? Strictly, yes; we are creating a new array. However, as we will explain in the next guide, JAX computations are often compiled before being run using another program transformation, `jax.jit`. If we don't use the old array after modifying it 'in place' using indexed update operators, the compiler can recognise that it can in fact compile to an in-place modify, resulting in efficient code in the end.\n",
                "\n",
                "Of course, it's possible to mix side-effectful Python code and functionally pure JAX code, and we will touch on this more later. As you get more familiar with JAX, you will learn how and when this can work. As a rule of thumb, however, any functions intended to be transformed by JAX should avoid side-effects, and the JAX primitives themselves will try to help you do that.\n",
                "\n",
                "We will explain other places where the JAX idiosyncracies become relevant as they come up. There is even a section that focuses entirely on getting used to the functional programming style of handling state: [Part 7: Problem of State](https://colab.research.google.com/github/google/jax/blob/main/docs/jax-101/07-state.ipynb). However, if you're impatient, you can find a [summary of JAX's sharp edges](https://jax.readthedocs.io/en/latest/notebooks/Common_Gotchas_in_JAX.html) in the JAX docs."
            ]
        },
        {
            "cell_type": "markdown",
            "metadata": {
                "id": "dFn_VBFFlGCz"
            },
            "source": [
                "## Your first JAX training loop\n",
                "\n",
                "We still have much to learn about JAX, but you already know enough to understand how we can use JAX to build a simple training loop.\n",
                "\n",
                "To keep things simple, we'll start with a linear regression. \n",
                "\n",
                "Our data is sampled according to $y = w_{true} x + b_{true} + \\epsilon$."
            ]
        },
        {
            "cell_type": "code",
            "execution_count": 25,
            "metadata": {
                "id": "WGgyEWFqrPq1"
            },
            "outputs": [
                {
                    "data": {
                        "image/png": "[encoded data removed]",
                        "text/plain": [
                            "<Figure size 432x288 with 1 Axes>"
                        ]
                    },
                    "metadata": {
                        "needs_background": "light"
                    },
                    "output_type": "display_data"
                }
            ],
            "source": [
                "import numpy as np\n",
                "import matplotlib.pyplot as plt\n",
                "\n",
                "xs = np.random.normal(size=(100,))\n",
                "noise = np.random.normal(scale=0.1, size=(100,))\n",
                "ys = xs * 3 - 1 + noise\n",
                "\n",
                "plt.scatter(xs, ys);"
            ]
        },
        {
            "cell_type": "markdown",
            "metadata": {
                "id": "RTh22mo4rR1x"
            },
            "source": [
                "Therefore, our model is $\\hat y(x; \\theta) = wx + b$.\n",
                "\n",
                "We will use a single array, `theta = [w, b]` to house both parameters:"
            ]
        },
        {
            "cell_type": "code",
            "execution_count": 29,
            "metadata": {
                "id": "TnVrRTMamyzb"
            },
            "outputs": [],
            "source": [
                "def model(theta, x):\n",
                "  \"\"\"Computes wx + b on a batch of input x.\"\"\"\n",
                "  w, b = theta\n",
                "  return w * x + b"
            ]
        },
        {
            "cell_type": "markdown",
            "metadata": {
                "id": "qCrLmmKrn9_h"
            },
            "source": [
                "The loss function is $J(x, y; \\theta) = (\\hat y - y)^2$."
            ]
        },
        {
            "cell_type": "code",
            "execution_count": 28,
            "metadata": {
                "id": "07eMcDLMn9Ww"
            },
            "outputs": [],
            "source": [
                "def loss_fn(theta, x, y):\n",
                "  prediction = model(theta, x)\n",
                "  return jnp.mean((prediction-y)**2)"
            ]
        },
        {
            "cell_type": "markdown",
            "metadata": {
                "id": "ejMt4dulnoYX"
            },
            "source": [
                "How do we optimize a loss function? Using gradient descent. At each update step, we will find the gradient of the loss w.r.t. the parameters, and take a small step in the direction of steepest descent:\n",
                "\n",
                "$\\theta_{new} = \\theta - 0.1 (\\nabla_\\theta J) (x, y; \\theta)$"
            ]
        },
        {
            "cell_type": "code",
            "execution_count": 27,
            "metadata": {
                "id": "2I6T5Wphpaaa"
            },
            "outputs": [],
            "source": [
                "def update(theta, x, y, lr=0.1):\n",
                "  return theta - lr * jax.grad(loss_fn)(theta, x, y)"
            ]
        },
        {
            "cell_type": "markdown",
            "metadata": {
                "id": "MAUL1gT_opVn"
            },
            "source": [
                "In JAX, it's common to define an `update()` function that is called every step, taking the current parameters as input and returning the new parameters. This is a natural consequence of JAX's functional nature, and is explained in more detail in [The Problem of State](https://colab.research.google.com/github/google/jax/blob/main/docs/jax-101/07-state.ipynb).\n",
                "\n",
                "This function can then be JIT-compiled in its entirety for maximum efficiency. The next guide will explain exactly how `jax.jit` works, but if you want to, you can try adding `@jax.jit` before the `update()` definition, and see how the training loop below runs much faster."
            ]
        },
        {
            "cell_type": "code",
            "execution_count": 30,
            "metadata": {
                "id": "WLZxY7nIpuVW"
            },
            "outputs": [
                {
                    "name": "stdout",
                    "output_type": "stream",
                    "text": [
                        "w: 2.99, b: -0.99\n"
                    ]
                },
                {
                    "data": {
                        "image/png": "[encoded data removed]",
                        "text/plain": [
                            "<Figure size 432x288 with 1 Axes>"
                        ]
                    },
                    "metadata": {
                        "needs_background": "light"
                    },
                    "output_type": "display_data"
                }
            ],
            "source": [
                "theta = jnp.array([1., 1.])\n",
                "\n",
                "for _ in range(1000):\n",
                "  theta = update(theta, xs, ys)\n",
                "\n",
                "plt.scatter(xs, ys)\n",
                "plt.plot(xs, model(theta, xs))\n",
                "\n",
                "w, b = theta\n",
                "print(f\"w: {w:<.2f}, b: {b:<.2f}\")"
            ]
        },
        {
            "cell_type": "markdown",
            "metadata": {
                "id": "5-q17kJ_rjLc"
            },
            "source": [
                "As you will see going through these guides, this basic recipe underlies almost all training loops you'll see implemented in JAX. The main difference between this example and real training loops is the simplicity of our model: that allows us to use a single array to house all our parameters. We cover managing more parameters in the later [pytree guide](https://colab.research.google.com/github/google/jax/blob/main/docs/jax-101/05.1-pytrees.ipynb). Feel free to skip forward to that guide now to see how to manually define and train a simple MLP in JAX."
            ]
        }
    ],
    "metadata": {
        "colab": {
            "collapsed_sections": [],
            "name": "Jax Basics.ipynb",
            "provenance": []
        },
        "jupytext": {
            "formats": "ipynb,md:myst"
        },
        "kernelspec": {
            "display_name": "Python 3.10.5 64-bit",
            "language": "python",
            "name": "python3"
        },
        "language_info": {
            "codemirror_mode": {
                "name": "ipython",
                "version": 3
            },
            "file_extension": ".py",
            "mimetype": "text/x-python",
            "name": "python",
            "nbconvert_exporter": "python",
            "pygments_lexer": "ipython3",
            "version": "3.10.5"
        },
        "vscode": {
            "interpreter": {
                "hash": "aee8b7b246df8f9039afb4144a1f6fd8d2ca17a180786b69acc140d282b71a49"
            }
        }
    },
    "nbformat": 4,
    "nbformat_minor": 0
}
